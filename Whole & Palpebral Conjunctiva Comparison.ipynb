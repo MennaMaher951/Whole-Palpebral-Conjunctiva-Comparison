{
 "cells": [
  {
   "cell_type": "markdown",
   "id": "a862a0a4",
   "metadata": {},
   "source": [
    "## Importing the Dependencies"
   ]
  },
  {
   "cell_type": "code",
   "execution_count": 1,
   "id": "146faacb",
   "metadata": {},
   "outputs": [],
   "source": [
    "import numpy as np , pandas as pd , cv2, os, seaborn as sns\n",
    "import matplotlib.pyplot as plt\n",
    "import matplotlib.image as mpimg\n",
    "from PIL import Image\n",
    "from sklearn.model_selection import train_test_split\n",
    "from sklearn.ensemble import AdaBoostClassifier\n",
    "from imblearn.ensemble import RUSBoostClassifier\n",
    "from sklearn.metrics import accuracy_score , confusion_matrix , precision_score , recall_score , f1_score\n",
    "from tensorflow.keras.models import Sequential\n",
    "from tensorflow.keras.layers import Conv2D, AveragePooling2D, Flatten, Dense, MaxPooling2D\n",
    "from sklearn.model_selection import cross_val_score\n",
    "from scipy.ndimage import rotate\n",
    "from sklearn.utils import shuffle\n",
    "import tensorflow as tf\n",
    "from tensorflow.keras import layers, models"
   ]
  },
  {
   "cell_type": "markdown",
   "id": "dc46b7be",
   "metadata": {},
   "source": [
    "## Wrangling Data"
   ]
  },
  {
   "cell_type": "code",
   "execution_count": 2,
   "id": "c4a70087",
   "metadata": {},
   "outputs": [],
   "source": [
    "# Initialize an empty list to Forniceal Palpebral images\n",
    "Forniceal_Palpebral_images_italy = []\n",
    "for i in range(1, 124):\n",
    "    folder_name_2 = str(i).zfill(3)  \n",
    "    img_i_path = rf'C:\\Italy\\{i}\\{folder_name_2}_forniceal_palpebral.png' \n",
    "    img_i = cv2.imread(img_i_path, cv2.IMREAD_GRAYSCALE)\n",
    "    Forniceal_Palpebral_images_italy.append(img_i)    \n",
    "    \n",
    "Forniceal_Palpebral_images_india = []\n",
    "for i in range(1, 96):\n",
    "    folder_name_2 = str(i).zfill(3)  \n",
    "    img_i_path = rf'C:\\India\\{i}\\{folder_name_2}_forniceal_palpebral.png' \n",
    "    img_i = cv2.imread(img_i_path, cv2.IMREAD_GRAYSCALE)\n",
    "    Forniceal_Palpebral_images_india.append(img_i) \n",
    "    \n",
    "Forniceal_Palpebral_images = Forniceal_Palpebral_images_italy + Forniceal_Palpebral_images_india"
   ]
  },
  {
   "cell_type": "code",
   "execution_count": 3,
   "id": "6bc32223",
   "metadata": {},
   "outputs": [],
   "source": [
    "# Initialize an empty list to Palpebral images\n",
    "Palpebral_images_italy = []\n",
    "for i in range(1, 124):\n",
    "    folder_name_3 = str(i).zfill(3)  \n",
    "    img_i_path = rf'C:\\Italy\\{i}\\{folder_name_3}_palpebral.png' \n",
    "    img_i = cv2.imread(img_i_path, cv2.IMREAD_GRAYSCALE)\n",
    "    Palpebral_images_italy.append(img_i)\n",
    "    \n",
    "Palpebral_images_india = []\n",
    "for i in range(1, 96):\n",
    "    folder_name_3 = str(i).zfill(3)  \n",
    "    img_i_path = rf'C:\\India\\{i}\\{folder_name_3}_palpebral.png' \n",
    "    img_i = cv2.imread(img_i_path, cv2.IMREAD_GRAYSCALE)\n",
    "    Palpebral_images_india.append(img_i)\n",
    "    \n",
    "Palpebral_images = Palpebral_images_italy + Palpebral_images_india"
   ]
  },
  {
   "cell_type": "code",
   "execution_count": 4,
   "id": "6f0bc08c",
   "metadata": {},
   "outputs": [],
   "source": [
    "file_path_india = 'C:\\India\\India.xlsx'\n",
    "df_india = pd.read_excel(file_path_india)\n",
    "file_path_italy = 'C:\\Italy\\Italy.xlsx'\n",
    "df_italy = pd.read_excel(file_path_italy)"
   ]
  },
  {
   "cell_type": "code",
   "execution_count": 5,
   "id": "e1f5bdd1",
   "metadata": {},
   "outputs": [],
   "source": [
    "df_anemic = pd.concat([df_italy['Hgb'], df_india['Hgb']], ignore_index=True, axis=0)"
   ]
  },
  {
   "cell_type": "code",
   "execution_count": 6,
   "id": "7d6728dd",
   "metadata": {},
   "outputs": [
    {
     "data": {
      "text/plain": [
       "0     9.3\n",
       "1    10.2\n",
       "2    10.7\n",
       "3    11.7\n",
       "4    11.6\n",
       "Name: Hgb, dtype: float64"
      ]
     },
     "execution_count": 6,
     "metadata": {},
     "output_type": "execute_result"
    }
   ],
   "source": [
    "df_anemic.head()"
   ]
  },
  {
   "cell_type": "code",
   "execution_count": 7,
   "id": "32805cf7",
   "metadata": {},
   "outputs": [
    {
     "name": "stdout",
     "output_type": "stream",
     "text": [
      "(1067, 800)\n"
     ]
    }
   ],
   "source": [
    "print(Forniceal_Palpebral_images_italy[5].shape)"
   ]
  },
  {
   "cell_type": "markdown",
   "id": "65999f09",
   "metadata": {},
   "source": [
    "## Preprocessing "
   ]
  },
  {
   "cell_type": "markdown",
   "id": "5f281625",
   "metadata": {},
   "source": [
    "* Whole Conjunctiva & Palpebral Data"
   ]
  },
  {
   "cell_type": "code",
   "execution_count": 8,
   "id": "9bd6ae65",
   "metadata": {},
   "outputs": [],
   "source": [
    "# Define indices of missing values to remove\n",
    "indices_to_remove = [0, 34, 53, 57, 74, 108]\n",
    "# Remove elements at the specified indices from images\n",
    "Forniceal_Palpebral_images = [img for idx, img in enumerate(Forniceal_Palpebral_images) if idx not in indices_to_remove]\n",
    "Palpebral_images = [img for idx, img in enumerate(Palpebral_images) if idx not in indices_to_remove]"
   ]
  },
  {
   "cell_type": "code",
   "execution_count": 9,
   "id": "509fd374",
   "metadata": {},
   "outputs": [],
   "source": [
    "for i in range(len(Forniceal_Palpebral_images)):\n",
    "    Forniceal_Palpebral_images[i] = Forniceal_Palpebral_images[i] / 255.0"
   ]
  },
  {
   "cell_type": "code",
   "execution_count": 10,
   "id": "f6601d63",
   "metadata": {},
   "outputs": [],
   "source": [
    "for i in range(len(Palpebral_images)):\n",
    "    Palpebral_images[i] = Palpebral_images[i] / 255.0"
   ]
  },
  {
   "cell_type": "code",
   "execution_count": 11,
   "id": "2b1ef12e",
   "metadata": {},
   "outputs": [],
   "source": [
    "Forniceal_Palpebral_images_normalized = np.array(Forniceal_Palpebral_images)\n",
    "Palpebral_images_normalized = np.array(Palpebral_images)"
   ]
  },
  {
   "cell_type": "code",
   "execution_count": 12,
   "id": "c7b5227f",
   "metadata": {},
   "outputs": [],
   "source": [
    "# Resize images\n",
    "new_width = 200  \n",
    "new_height = 150 \n",
    "\n",
    "Forniceal_Palpebral_images_resized = []\n",
    "for image in Forniceal_Palpebral_images_normalized:\n",
    "    resized_image = cv2.resize(image, (new_width, new_height))\n",
    "    Forniceal_Palpebral_images_resized.append(resized_image)\n",
    "    \n",
    "Palpebral_images_resized = []\n",
    "for image in Palpebral_images_normalized:\n",
    "    resized_image = cv2.resize(image, (new_width, new_height))\n",
    "    Palpebral_images_resized.append(resized_image)"
   ]
  },
  {
   "cell_type": "markdown",
   "id": "4545ca13",
   "metadata": {},
   "source": [
    "* Hgb Target Data"
   ]
  },
  {
   "cell_type": "code",
   "execution_count": 13,
   "id": "c2670ad2",
   "metadata": {},
   "outputs": [],
   "source": [
    "rows_to_remove = [0, 34, 53, 57, 74, 108]\n",
    "# Remove rows with specified indices from df_anemic\n",
    "df_anemic = df_anemic.drop(rows_to_remove)"
   ]
  },
  {
   "cell_type": "code",
   "execution_count": 14,
   "id": "17154e7e",
   "metadata": {},
   "outputs": [],
   "source": [
    "anemia_threshold = 10.5  # Threshold for anemia (Hgb levels below this indicate anemia)\n",
    "# Function to classify anemia based on Hgb levels\n",
    "def classify_anemia(Hgb):\n",
    "    if Hgb <= anemia_threshold:\n",
    "        return 1\n",
    "    else:\n",
    "        return 0\n",
    "# Apply the function to classify anemia status for each individual\n",
    "df_anemic['Anemia_Status_label'] = df_anemic.apply(classify_anemia)"
   ]
  },
  {
   "cell_type": "code",
   "execution_count": 15,
   "id": "6dc778cf",
   "metadata": {
    "scrolled": true
   },
   "outputs": [
    {
     "data": {
      "text/plain": [
       "Hgb\n",
       "0    170\n",
       "1     42\n",
       "Name: count, dtype: int64"
      ]
     },
     "execution_count": 15,
     "metadata": {},
     "output_type": "execute_result"
    }
   ],
   "source": [
    "df_anemic['Anemia_Status_label'].value_counts()"
   ]
  },
  {
   "cell_type": "markdown",
   "id": "e8a50860",
   "metadata": {},
   "source": [
    "## Feature Extraction"
   ]
  },
  {
   "cell_type": "markdown",
   "id": "17ddaad3",
   "metadata": {},
   "source": [
    "* LeNet-5"
   ]
  },
  {
   "cell_type": "code",
   "execution_count": 16,
   "id": "e1b2e18c",
   "metadata": {},
   "outputs": [
    {
     "name": "stdout",
     "output_type": "stream",
     "text": [
      "7/7 [==============================] - 2s 127ms/step\n",
      "7/7 [==============================] - 0s 61ms/step\n"
     ]
    }
   ],
   "source": [
    "# Building the model \n",
    "LeNet_5 = Sequential([\n",
    "    Conv2D(6, kernel_size=(5, 5), activation='relu', input_shape=(new_height, new_width, 1)),\n",
    "    AveragePooling2D(pool_size=(2, 2)),\n",
    "    Conv2D(16, kernel_size=(5, 5), activation='relu'),\n",
    "    AveragePooling2D(pool_size=(2, 2)),\n",
    "    Flatten(),\n",
    "    Dense(120, activation='relu'),\n",
    "    Dense(84, activation='relu'),\n",
    "    Dense(10, activation='softmax') \n",
    "])\n",
    "\n",
    "# feature extraction\n",
    "features_whole = LeNet_5.predict(np.array(Forniceal_Palpebral_images_resized))\n",
    "features_Palpebral = LeNet_5.predict(np.array(Palpebral_images_resized))\n",
    "\n",
    "# Flatten the features\n",
    "flattened_features_whole = features_whole.reshape(features_whole.shape[0], -1)\n",
    "flattened_features_palpebral = features_Palpebral.reshape(features_Palpebral.shape[0], -1)"
   ]
  },
  {
   "cell_type": "code",
   "execution_count": 17,
   "id": "871eb613",
   "metadata": {},
   "outputs": [
    {
     "name": "stdout",
     "output_type": "stream",
     "text": [
      "Model: \"sequential\"\n",
      "_________________________________________________________________\n",
      " Layer (type)                Output Shape              Param #   \n",
      "=================================================================\n",
      " conv2d (Conv2D)             (None, 146, 196, 6)       156       \n",
      "                                                                 \n",
      " average_pooling2d (Average  (None, 73, 98, 6)         0         \n",
      " Pooling2D)                                                      \n",
      "                                                                 \n",
      " conv2d_1 (Conv2D)           (None, 69, 94, 16)        2416      \n",
      "                                                                 \n",
      " average_pooling2d_1 (Avera  (None, 34, 47, 16)        0         \n",
      " gePooling2D)                                                    \n",
      "                                                                 \n",
      " flatten (Flatten)           (None, 25568)             0         \n",
      "                                                                 \n",
      " dense (Dense)               (None, 120)               3068280   \n",
      "                                                                 \n",
      " dense_1 (Dense)             (None, 84)                10164     \n",
      "                                                                 \n",
      " dense_2 (Dense)             (None, 10)                850       \n",
      "                                                                 \n",
      "=================================================================\n",
      "Total params: 3081866 (11.76 MB)\n",
      "Trainable params: 3081866 (11.76 MB)\n",
      "Non-trainable params: 0 (0.00 Byte)\n",
      "_________________________________________________________________\n"
     ]
    }
   ],
   "source": [
    "LeNet_5.summary()"
   ]
  },
  {
   "cell_type": "code",
   "execution_count": 42,
   "id": "528f8834",
   "metadata": {
    "scrolled": true
   },
   "outputs": [
    {
     "name": "stdout",
     "output_type": "stream",
     "text": [
      "212\n"
     ]
    }
   ],
   "source": [
    "print(len(flattened_features_whole))"
   ]
  },
  {
   "cell_type": "code",
   "execution_count": 43,
   "id": "c9f9d6a2",
   "metadata": {},
   "outputs": [
    {
     "name": "stdout",
     "output_type": "stream",
     "text": [
      "212\n"
     ]
    }
   ],
   "source": [
    "print(len(flattened_features_palpebral))"
   ]
  },
  {
   "cell_type": "markdown",
   "id": "2ba167a2",
   "metadata": {},
   "source": [
    "## Spliting Data"
   ]
  },
  {
   "cell_type": "code",
   "execution_count": 18,
   "id": "27407ca2",
   "metadata": {},
   "outputs": [],
   "source": [
    "y = df_anemic['Anemia_Status_label']"
   ]
  },
  {
   "cell_type": "markdown",
   "id": "8d31165b",
   "metadata": {},
   "source": [
    "## Train Test Split"
   ]
  },
  {
   "cell_type": "code",
   "execution_count": 19,
   "id": "3c057028",
   "metadata": {},
   "outputs": [],
   "source": [
    "x_train_whole, x_test_whole, y_train, y_test = train_test_split(flattened_features_whole, y, test_size=0.4, random_state=42)"
   ]
  },
  {
   "cell_type": "code",
   "execution_count": 20,
   "id": "e3b9bbb4",
   "metadata": {},
   "outputs": [],
   "source": [
    "x_train_Palpebral, x_test_Palpebral, y_train, y_test = train_test_split(flattened_features_palpebral, y, test_size=0.4, random_state=42)"
   ]
  },
  {
   "cell_type": "markdown",
   "id": "36231442",
   "metadata": {},
   "source": [
    "## RusBoost"
   ]
  },
  {
   "cell_type": "code",
   "execution_count": 21,
   "id": "a333bf20",
   "metadata": {},
   "outputs": [],
   "source": [
    "rusboost_clf = RUSBoostClassifier(n_estimators=50, random_state=42)"
   ]
  },
  {
   "cell_type": "markdown",
   "id": "77c3ffc0",
   "metadata": {},
   "source": [
    "* Whole Conjunctiva"
   ]
  },
  {
   "cell_type": "code",
   "execution_count": 22,
   "id": "ed6710ab",
   "metadata": {},
   "outputs": [
    {
     "data": {
      "text/html": [
       "<style>#sk-container-id-1 {color: black;}#sk-container-id-1 pre{padding: 0;}#sk-container-id-1 div.sk-toggleable {background-color: white;}#sk-container-id-1 label.sk-toggleable__label {cursor: pointer;display: block;width: 100%;margin-bottom: 0;padding: 0.3em;box-sizing: border-box;text-align: center;}#sk-container-id-1 label.sk-toggleable__label-arrow:before {content: \"▸\";float: left;margin-right: 0.25em;color: #696969;}#sk-container-id-1 label.sk-toggleable__label-arrow:hover:before {color: black;}#sk-container-id-1 div.sk-estimator:hover label.sk-toggleable__label-arrow:before {color: black;}#sk-container-id-1 div.sk-toggleable__content {max-height: 0;max-width: 0;overflow: hidden;text-align: left;background-color: #f0f8ff;}#sk-container-id-1 div.sk-toggleable__content pre {margin: 0.2em;color: black;border-radius: 0.25em;background-color: #f0f8ff;}#sk-container-id-1 input.sk-toggleable__control:checked~div.sk-toggleable__content {max-height: 200px;max-width: 100%;overflow: auto;}#sk-container-id-1 input.sk-toggleable__control:checked~label.sk-toggleable__label-arrow:before {content: \"▾\";}#sk-container-id-1 div.sk-estimator input.sk-toggleable__control:checked~label.sk-toggleable__label {background-color: #d4ebff;}#sk-container-id-1 div.sk-label input.sk-toggleable__control:checked~label.sk-toggleable__label {background-color: #d4ebff;}#sk-container-id-1 input.sk-hidden--visually {border: 0;clip: rect(1px 1px 1px 1px);clip: rect(1px, 1px, 1px, 1px);height: 1px;margin: -1px;overflow: hidden;padding: 0;position: absolute;width: 1px;}#sk-container-id-1 div.sk-estimator {font-family: monospace;background-color: #f0f8ff;border: 1px dotted black;border-radius: 0.25em;box-sizing: border-box;margin-bottom: 0.5em;}#sk-container-id-1 div.sk-estimator:hover {background-color: #d4ebff;}#sk-container-id-1 div.sk-parallel-item::after {content: \"\";width: 100%;border-bottom: 1px solid gray;flex-grow: 1;}#sk-container-id-1 div.sk-label:hover label.sk-toggleable__label {background-color: #d4ebff;}#sk-container-id-1 div.sk-serial::before {content: \"\";position: absolute;border-left: 1px solid gray;box-sizing: border-box;top: 0;bottom: 0;left: 50%;z-index: 0;}#sk-container-id-1 div.sk-serial {display: flex;flex-direction: column;align-items: center;background-color: white;padding-right: 0.2em;padding-left: 0.2em;position: relative;}#sk-container-id-1 div.sk-item {position: relative;z-index: 1;}#sk-container-id-1 div.sk-parallel {display: flex;align-items: stretch;justify-content: center;background-color: white;position: relative;}#sk-container-id-1 div.sk-item::before, #sk-container-id-1 div.sk-parallel-item::before {content: \"\";position: absolute;border-left: 1px solid gray;box-sizing: border-box;top: 0;bottom: 0;left: 50%;z-index: -1;}#sk-container-id-1 div.sk-parallel-item {display: flex;flex-direction: column;z-index: 1;position: relative;background-color: white;}#sk-container-id-1 div.sk-parallel-item:first-child::after {align-self: flex-end;width: 50%;}#sk-container-id-1 div.sk-parallel-item:last-child::after {align-self: flex-start;width: 50%;}#sk-container-id-1 div.sk-parallel-item:only-child::after {width: 0;}#sk-container-id-1 div.sk-dashed-wrapped {border: 1px dashed gray;margin: 0 0.4em 0.5em 0.4em;box-sizing: border-box;padding-bottom: 0.4em;background-color: white;}#sk-container-id-1 div.sk-label label {font-family: monospace;font-weight: bold;display: inline-block;line-height: 1.2em;}#sk-container-id-1 div.sk-label-container {text-align: center;}#sk-container-id-1 div.sk-container {/* jupyter's `normalize.less` sets `[hidden] { display: none; }` but bootstrap.min.css set `[hidden] { display: none !important; }` so we also need the `!important` here to be able to override the default hidden behavior on the sphinx rendered scikit-learn.org. See: https://github.com/scikit-learn/scikit-learn/issues/21755 */display: inline-block !important;position: relative;}#sk-container-id-1 div.sk-text-repr-fallback {display: none;}</style><div id=\"sk-container-id-1\" class=\"sk-top-container\"><div class=\"sk-text-repr-fallback\"><pre>RUSBoostClassifier(random_state=42)</pre><b>In a Jupyter environment, please rerun this cell to show the HTML representation or trust the notebook. <br />On GitHub, the HTML representation is unable to render, please try loading this page with nbviewer.org.</b></div><div class=\"sk-container\" hidden><div class=\"sk-item\"><div class=\"sk-estimator sk-toggleable\"><input class=\"sk-toggleable__control sk-hidden--visually\" id=\"sk-estimator-id-1\" type=\"checkbox\" checked><label for=\"sk-estimator-id-1\" class=\"sk-toggleable__label sk-toggleable__label-arrow\">RUSBoostClassifier</label><div class=\"sk-toggleable__content\"><pre>RUSBoostClassifier(random_state=42)</pre></div></div></div></div></div>"
      ],
      "text/plain": [
       "RUSBoostClassifier(random_state=42)"
      ]
     },
     "execution_count": 22,
     "metadata": {},
     "output_type": "execute_result"
    }
   ],
   "source": [
    "# Train the classifier on whole conjunctiva \n",
    "rusboost_clf.fit(x_train_whole, y_train)"
   ]
  },
  {
   "cell_type": "code",
   "execution_count": 23,
   "id": "18a905ed",
   "metadata": {},
   "outputs": [],
   "source": [
    "# Predict on the training set\n",
    "y_train_pred = rusboost_clf.predict(x_train_whole)"
   ]
  },
  {
   "cell_type": "markdown",
   "id": "973d4309",
   "metadata": {},
   "source": [
    "* Evaluation on Whole Conjunctiva "
   ]
  },
  {
   "cell_type": "code",
   "execution_count": 50,
   "id": "d39c63d1",
   "metadata": {},
   "outputs": [
    {
     "name": "stdout",
     "output_type": "stream",
     "text": [
      "Training Accuracy on Whole Conjunctiva: 0.9448818897637795\n"
     ]
    }
   ],
   "source": [
    "# Evaluate the classifier on the training data\n",
    "train_accuracy = accuracy_score(y_train, y_train_pred)\n",
    "print(\"Training Accuracy on Whole Conjunctiva:\", train_accuracy)"
   ]
  },
  {
   "cell_type": "code",
   "execution_count": 83,
   "id": "e6855767",
   "metadata": {},
   "outputs": [
    {
     "name": "stdout",
     "output_type": "stream",
     "text": [
      "Training Precision on Whole Conjunctiva: 0.8484848484848485\n"
     ]
    }
   ],
   "source": [
    "# precision_score for training data\n",
    "precision_train = precision_score(y_train,y_train_pred)\n",
    "print('Training Precision on Whole Conjunctiva:',precision_train)"
   ]
  },
  {
   "cell_type": "code",
   "execution_count": 84,
   "id": "e86b33f7",
   "metadata": {},
   "outputs": [
    {
     "name": "stdout",
     "output_type": "stream",
     "text": [
      "Training Recall on Whole Conjunctiva: 0.9333333333333333\n"
     ]
    }
   ],
   "source": [
    "# recall_score for training data\n",
    "recall_score_train = recall_score(y_train,y_train_pred)\n",
    "print('Training Recall on Whole Conjunctiva:',recall_score_train)"
   ]
  },
  {
   "cell_type": "code",
   "execution_count": 85,
   "id": "c18e2a92",
   "metadata": {},
   "outputs": [
    {
     "name": "stdout",
     "output_type": "stream",
     "text": [
      "Training F1 Score on Whole Conjunctiva: 0.888888888888889\n"
     ]
    }
   ],
   "source": [
    "# f1_score for training data\n",
    "f1_score_train = f1_score(y_train,y_train_pred)\n",
    "print('Training F1 Score on Whole Conjunctiva:',f1_score_train)"
   ]
  },
  {
   "cell_type": "code",
   "execution_count": 56,
   "id": "e9d45b44",
   "metadata": {},
   "outputs": [],
   "source": [
    "# Predict on the test set\n",
    "y_test_pred = rusboost_clf.predict(x_test_whole)"
   ]
  },
  {
   "cell_type": "code",
   "execution_count": 60,
   "id": "f9c8875c",
   "metadata": {},
   "outputs": [
    {
     "name": "stdout",
     "output_type": "stream",
     "text": [
      "Testing Accuracy on Whole Conjunctiva: 0.7176470588235294\n"
     ]
    }
   ],
   "source": [
    "# Evaluate the classifier\n",
    "test_accuracy = accuracy_score(y_test, y_test_pred)\n",
    "print(\"Testing Accuracy on Whole Conjunctiva:\", test_accuracy)"
   ]
  },
  {
   "cell_type": "markdown",
   "id": "cb9e2be4",
   "metadata": {},
   "source": [
    "* Palpebral Conjunctiva "
   ]
  },
  {
   "cell_type": "code",
   "execution_count": 24,
   "id": "3315db69",
   "metadata": {},
   "outputs": [
    {
     "data": {
      "text/html": [
       "<style>#sk-container-id-2 {color: black;}#sk-container-id-2 pre{padding: 0;}#sk-container-id-2 div.sk-toggleable {background-color: white;}#sk-container-id-2 label.sk-toggleable__label {cursor: pointer;display: block;width: 100%;margin-bottom: 0;padding: 0.3em;box-sizing: border-box;text-align: center;}#sk-container-id-2 label.sk-toggleable__label-arrow:before {content: \"▸\";float: left;margin-right: 0.25em;color: #696969;}#sk-container-id-2 label.sk-toggleable__label-arrow:hover:before {color: black;}#sk-container-id-2 div.sk-estimator:hover label.sk-toggleable__label-arrow:before {color: black;}#sk-container-id-2 div.sk-toggleable__content {max-height: 0;max-width: 0;overflow: hidden;text-align: left;background-color: #f0f8ff;}#sk-container-id-2 div.sk-toggleable__content pre {margin: 0.2em;color: black;border-radius: 0.25em;background-color: #f0f8ff;}#sk-container-id-2 input.sk-toggleable__control:checked~div.sk-toggleable__content {max-height: 200px;max-width: 100%;overflow: auto;}#sk-container-id-2 input.sk-toggleable__control:checked~label.sk-toggleable__label-arrow:before {content: \"▾\";}#sk-container-id-2 div.sk-estimator input.sk-toggleable__control:checked~label.sk-toggleable__label {background-color: #d4ebff;}#sk-container-id-2 div.sk-label input.sk-toggleable__control:checked~label.sk-toggleable__label {background-color: #d4ebff;}#sk-container-id-2 input.sk-hidden--visually {border: 0;clip: rect(1px 1px 1px 1px);clip: rect(1px, 1px, 1px, 1px);height: 1px;margin: -1px;overflow: hidden;padding: 0;position: absolute;width: 1px;}#sk-container-id-2 div.sk-estimator {font-family: monospace;background-color: #f0f8ff;border: 1px dotted black;border-radius: 0.25em;box-sizing: border-box;margin-bottom: 0.5em;}#sk-container-id-2 div.sk-estimator:hover {background-color: #d4ebff;}#sk-container-id-2 div.sk-parallel-item::after {content: \"\";width: 100%;border-bottom: 1px solid gray;flex-grow: 1;}#sk-container-id-2 div.sk-label:hover label.sk-toggleable__label {background-color: #d4ebff;}#sk-container-id-2 div.sk-serial::before {content: \"\";position: absolute;border-left: 1px solid gray;box-sizing: border-box;top: 0;bottom: 0;left: 50%;z-index: 0;}#sk-container-id-2 div.sk-serial {display: flex;flex-direction: column;align-items: center;background-color: white;padding-right: 0.2em;padding-left: 0.2em;position: relative;}#sk-container-id-2 div.sk-item {position: relative;z-index: 1;}#sk-container-id-2 div.sk-parallel {display: flex;align-items: stretch;justify-content: center;background-color: white;position: relative;}#sk-container-id-2 div.sk-item::before, #sk-container-id-2 div.sk-parallel-item::before {content: \"\";position: absolute;border-left: 1px solid gray;box-sizing: border-box;top: 0;bottom: 0;left: 50%;z-index: -1;}#sk-container-id-2 div.sk-parallel-item {display: flex;flex-direction: column;z-index: 1;position: relative;background-color: white;}#sk-container-id-2 div.sk-parallel-item:first-child::after {align-self: flex-end;width: 50%;}#sk-container-id-2 div.sk-parallel-item:last-child::after {align-self: flex-start;width: 50%;}#sk-container-id-2 div.sk-parallel-item:only-child::after {width: 0;}#sk-container-id-2 div.sk-dashed-wrapped {border: 1px dashed gray;margin: 0 0.4em 0.5em 0.4em;box-sizing: border-box;padding-bottom: 0.4em;background-color: white;}#sk-container-id-2 div.sk-label label {font-family: monospace;font-weight: bold;display: inline-block;line-height: 1.2em;}#sk-container-id-2 div.sk-label-container {text-align: center;}#sk-container-id-2 div.sk-container {/* jupyter's `normalize.less` sets `[hidden] { display: none; }` but bootstrap.min.css set `[hidden] { display: none !important; }` so we also need the `!important` here to be able to override the default hidden behavior on the sphinx rendered scikit-learn.org. See: https://github.com/scikit-learn/scikit-learn/issues/21755 */display: inline-block !important;position: relative;}#sk-container-id-2 div.sk-text-repr-fallback {display: none;}</style><div id=\"sk-container-id-2\" class=\"sk-top-container\"><div class=\"sk-text-repr-fallback\"><pre>RUSBoostClassifier(random_state=42)</pre><b>In a Jupyter environment, please rerun this cell to show the HTML representation or trust the notebook. <br />On GitHub, the HTML representation is unable to render, please try loading this page with nbviewer.org.</b></div><div class=\"sk-container\" hidden><div class=\"sk-item\"><div class=\"sk-estimator sk-toggleable\"><input class=\"sk-toggleable__control sk-hidden--visually\" id=\"sk-estimator-id-2\" type=\"checkbox\" checked><label for=\"sk-estimator-id-2\" class=\"sk-toggleable__label sk-toggleable__label-arrow\">RUSBoostClassifier</label><div class=\"sk-toggleable__content\"><pre>RUSBoostClassifier(random_state=42)</pre></div></div></div></div></div>"
      ],
      "text/plain": [
       "RUSBoostClassifier(random_state=42)"
      ]
     },
     "execution_count": 24,
     "metadata": {},
     "output_type": "execute_result"
    }
   ],
   "source": [
    "# Train the classifier on palpebral conjunctiva \n",
    "rusboost_clf.fit(x_train_Palpebral, y_train)"
   ]
  },
  {
   "cell_type": "code",
   "execution_count": 25,
   "id": "d6a3383d",
   "metadata": {},
   "outputs": [],
   "source": [
    "# Predict on the training set\n",
    "y_train_pred = rusboost_clf.predict(x_train_Palpebral)"
   ]
  },
  {
   "cell_type": "markdown",
   "id": "b51e8228",
   "metadata": {},
   "source": [
    "* Evaluation on Palpebral Conjunctiva "
   ]
  },
  {
   "cell_type": "code",
   "execution_count": 82,
   "id": "9e184d4c",
   "metadata": {},
   "outputs": [
    {
     "name": "stdout",
     "output_type": "stream",
     "text": [
      "Training Accuracy on Palpebral Conjunctiva: 0.968503937007874\n"
     ]
    }
   ],
   "source": [
    "# Evaluate the classifier on the training data\n",
    "train_accuracy = accuracy_score(y_train, y_train_pred)\n",
    "print(\"Training Accuracy on Palpebral Conjunctiva:\", train_accuracy)"
   ]
  },
  {
   "cell_type": "code",
   "execution_count": 26,
   "id": "2922db5b",
   "metadata": {},
   "outputs": [
    {
     "name": "stdout",
     "output_type": "stream",
     "text": [
      "Training Precision on Palpebral Conjunctiva: 0.8285714285714286\n"
     ]
    }
   ],
   "source": [
    "# precision_score for training data\n",
    "precision_train_palpebral = precision_score(y_train, y_train_pred)\n",
    "print('Training Precision on Palpebral Conjunctiva:',precision_train_palpebral)"
   ]
  },
  {
   "cell_type": "code",
   "execution_count": 100,
   "id": "f150fa3c",
   "metadata": {},
   "outputs": [
    {
     "name": "stdout",
     "output_type": "stream",
     "text": [
      "Training Recall on Palpebral Conjunctiva: 0.9333333333333333\n"
     ]
    }
   ],
   "source": [
    "# recall_score for training data\n",
    "recall_train_palpebral = recall_score(y_train,y_train_pred)\n",
    "print('Training Recall on Palpebral Conjunctiva:',recall_score_train)"
   ]
  },
  {
   "cell_type": "code",
   "execution_count": 101,
   "id": "dedda6c3",
   "metadata": {},
   "outputs": [
    {
     "name": "stdout",
     "output_type": "stream",
     "text": [
      "Training F1 Score on Palpebral Conjunctiva: 0.888888888888889\n"
     ]
    }
   ],
   "source": [
    "# f1_score for training data\n",
    "f1_score_train_palpebral = f1_score(y_train,y_train_pred)\n",
    "print('Training F1 Score on Palpebral Conjunctiva:',f1_score_train)"
   ]
  },
  {
   "cell_type": "code",
   "execution_count": 104,
   "id": "bb9fe9be",
   "metadata": {},
   "outputs": [],
   "source": [
    "# Predict on the test set\n",
    "y_test_pred = rusboost_clf.predict(x_test_Palpebral)"
   ]
  },
  {
   "cell_type": "code",
   "execution_count": 108,
   "id": "37f2dda1",
   "metadata": {},
   "outputs": [
    {
     "name": "stdout",
     "output_type": "stream",
     "text": [
      "Testing Accuracy on Palpebral Conjunctiva: 0.7411764705882353\n"
     ]
    }
   ],
   "source": [
    "# Evaluate the classifier\n",
    "test_accuracy_palpebral = accuracy_score(y_test, y_test_pred)\n",
    "print(\"Testing Accuracy on Palpebral Conjunctiva:\", test_accuracy_palpebral)"
   ]
  },
  {
   "cell_type": "code",
   "execution_count": 8,
   "id": "515c56af",
   "metadata": {},
   "outputs": [
    {
     "data": {
      "image/png": "[encoded data removed]",
      "text/plain": [
       "<Figure size 640x480 with 1 Axes>"
      ]
     },
     "metadata": {},
     "output_type": "display_data"
    }
   ],
   "source": [
    "# Labels for the bars\n",
    "labels = ['Train Accuracy', 'Test Accuracy']\n",
    "# Values for the bars\n",
    "train_values = [train_accuracy_whole, train_accuracy_palpebral]\n",
    "test_values = [test_accuracy, test_accuracy_palpebral]\n",
    "# Width of the bars\n",
    "bar_width = 0.35\n",
    "# Set the positions of the bars on the x-axis\n",
    "r1 = range(len(labels))\n",
    "r2 = [x + bar_width for x in r1]\n",
    "# Create the bar plot\n",
    "plt.bar(r1, train_values, color='#FF91A4', width=bar_width, edgecolor='grey', label='Train')\n",
    "plt.bar(r2, test_values, color='c', width=bar_width, edgecolor='grey', label='Test')\n",
    "# Add labels and title\n",
    "plt.xlabel('Conjunctiva Type', fontweight='bold')\n",
    "plt.xticks([r + bar_width/2 for r in range(len(labels))], ['Whole Conjunctiva', 'Palpebral Conjunctiva'])\n",
    "plt.ylabel('Accuracy')\n",
    "plt.title('Comparison of Accuracy between Whole and Palpebral Conjunctiva')\n",
    "# Add legend\n",
    "plt.legend()\n",
    "# Show plot\n",
    "plt.show()"
   ]
  },
  {
   "cell_type": "markdown",
   "id": "a094e162",
   "metadata": {},
   "source": [
    "## Data Augmentation"
   ]
  },
  {
   "cell_type": "code",
   "execution_count": 16,
   "id": "fd3e946b",
   "metadata": {},
   "outputs": [],
   "source": [
    "# Define the data augmentation functions\n",
    "def rotate_image(image, angle):\n",
    "    rows, cols = image.shape\n",
    "    rotation_matrix = cv2.getRotationMatrix2D((cols / 2, rows / 2), angle, 1)\n",
    "    rotated_image = cv2.warpAffine(image, rotation_matrix, (cols, rows))\n",
    "    return rotated_image\n",
    "\n",
    "def flip_image(image, flip_code):\n",
    "    flipped_image = cv2.flip(image, flip_code)\n",
    "    return flipped_image\n",
    "\n",
    "def scale_image(image, scale_factor):\n",
    "    scaled_image = cv2.resize(image, None, fx=scale_factor, fy=scale_factor, interpolation=cv2.INTER_LINEAR)\n",
    "    return scaled_image\n",
    "\n",
    "def translate_image(image, dx, dy):\n",
    "    rows, cols = image.shape\n",
    "    translation_matrix = np.float32([[1, 0, dx], [0, 1, dy]])\n",
    "    translated_image = cv2.warpAffine(image, translation_matrix, (cols, rows))\n",
    "    return translated_image\n",
    "\n",
    "# Define the data augmentation parameters\n",
    "rotation_angles = [90, 180, 270]\n",
    "flip_codes = [0, 1, -1]  \n",
    "scale_factors = [0.8, 1.2]  \n",
    "translations = [(10, 10), (-10, -10)]  "
   ]
  },
  {
   "cell_type": "markdown",
   "id": "66decd83",
   "metadata": {},
   "source": [
    "* Whole Conjunctiva"
   ]
  },
  {
   "cell_type": "code",
   "execution_count": 17,
   "id": "c4b5d686",
   "metadata": {},
   "outputs": [],
   "source": [
    "# Define desired dimensions\n",
    "desired_width = 200\n",
    "desired_height = 150\n",
    "# Perform data augmentation\n",
    "augmented_whole_images = []\n",
    "augmented_labels = []\n",
    "for idx, image in enumerate(Forniceal_Palpebral_images_resized):\n",
    "    label = df_anemic['Anemia_Status_label'].iloc[idx]\n",
    "    # Resize the image to desired dimensions\n",
    "    image = cv2.resize(image, (desired_width, desired_height))\n",
    "    # Original image\n",
    "    augmented_whole_images.append(image)\n",
    "    augmented_labels.append(label)   \n",
    "    # Augmentations\n",
    "    for angle in rotation_angles:\n",
    "        rotated_image = rotate_image(image, angle)\n",
    "        # Resize the rotated image\n",
    "        rotated_image = cv2.resize(rotated_image, (desired_width, desired_height))\n",
    "        augmented_whole_images.append(rotated_image)\n",
    "        augmented_labels.append(label)    \n",
    "    for flip_code in flip_codes:\n",
    "        flipped_image = flip_image(image, flip_code)\n",
    "        # Resize the flipped image\n",
    "        flipped_image = cv2.resize(flipped_image, (desired_width, desired_height))\n",
    "        augmented_whole_images.append(flipped_image)\n",
    "        augmented_labels.append(label)    \n",
    "    for scale_factor in scale_factors:\n",
    "        scaled_image = scale_image(image, scale_factor)\n",
    "        # Resize the scaled image\n",
    "        scaled_image = cv2.resize(scaled_image, (desired_width, desired_height))\n",
    "        augmented_whole_images.append(scaled_image)\n",
    "        augmented_labels.append(label)   \n",
    "    for translation in translations:\n",
    "        translated_image = translate_image(image, translation[0], translation[1])\n",
    "        # Resize the translated image\n",
    "        translated_image = cv2.resize(translated_image, (desired_width, desired_height))\n",
    "        augmented_whole_images.append(translated_image)\n",
    "        augmented_labels.append(label)"
   ]
  },
  {
   "cell_type": "code",
   "execution_count": 18,
   "id": "6f549f96",
   "metadata": {},
   "outputs": [
    {
     "name": "stdout",
     "output_type": "stream",
     "text": [
      "2332\n"
     ]
    }
   ],
   "source": [
    "print(len(augmented_whole_images))"
   ]
  },
  {
   "cell_type": "code",
   "execution_count": 19,
   "id": "2484046e",
   "metadata": {},
   "outputs": [
    {
     "data": {
      "image/png": "[encoded data removed]",
      "text/plain": [
       "<Figure size 640x480 with 1 Axes>"
      ]
     },
     "metadata": {},
     "output_type": "display_data"
    }
   ],
   "source": [
    "plt.imshow(augmented_whole_images[2000])\n",
    "plt.axis('off') \n",
    "plt.show()"
   ]
  },
  {
   "cell_type": "code",
   "execution_count": 20,
   "id": "b8962f8d",
   "metadata": {},
   "outputs": [
    {
     "name": "stdout",
     "output_type": "stream",
     "text": [
      "(150, 200)\n"
     ]
    }
   ],
   "source": [
    "print(augmented_whole_images[2000].shape)"
   ]
  },
  {
   "cell_type": "code",
   "execution_count": 21,
   "id": "3476d286",
   "metadata": {},
   "outputs": [
    {
     "name": "stdout",
     "output_type": "stream",
     "text": [
      "[[0. 0. 0. ... 0. 0. 0.]\n",
      " [0. 0. 0. ... 0. 0. 0.]\n",
      " [0. 0. 0. ... 0. 0. 0.]\n",
      " ...\n",
      " [0. 0. 0. ... 0. 0. 0.]\n",
      " [0. 0. 0. ... 0. 0. 0.]\n",
      " [0. 0. 0. ... 0. 0. 0.]]\n"
     ]
    }
   ],
   "source": [
    "print(augmented_whole_images[2000])"
   ]
  },
  {
   "cell_type": "code",
   "execution_count": 22,
   "id": "30a77597",
   "metadata": {},
   "outputs": [
    {
     "data": {
      "text/plain": [
       "0    1870\n",
       "1     462\n",
       "Name: count, dtype: int64"
      ]
     },
     "execution_count": 22,
     "metadata": {},
     "output_type": "execute_result"
    }
   ],
   "source": [
    "augmented_labels_s = pd.Series(augmented_labels)\n",
    "augmented_labels_s.value_counts()"
   ]
  },
  {
   "cell_type": "code",
   "execution_count": 23,
   "id": "4df990d9",
   "metadata": {},
   "outputs": [],
   "source": [
    "# Convert to numpy arrays\n",
    "augmented_images = np.array(augmented_whole_images)\n",
    "augmented_labels = np.array(augmented_labels)"
   ]
  },
  {
   "cell_type": "code",
   "execution_count": 24,
   "id": "4226a8fc",
   "metadata": {},
   "outputs": [],
   "source": [
    "augmented_whole_images = np.expand_dims(augmented_whole_images, axis=-1)"
   ]
  },
  {
   "cell_type": "code",
   "execution_count": 25,
   "id": "802dce6d",
   "metadata": {},
   "outputs": [],
   "source": [
    "x_train_1,x_test_1,y_train,y_test = train_test_split(augmented_whole_images, augmented_labels, test_size=0.2, random_state=42)"
   ]
  },
  {
   "cell_type": "markdown",
   "id": "10cd62fe",
   "metadata": {},
   "source": [
    "* Palpebral Conjunctiva"
   ]
  },
  {
   "cell_type": "code",
   "execution_count": 26,
   "id": "046be74b",
   "metadata": {},
   "outputs": [],
   "source": [
    "# Define desired dimensions\n",
    "desired_width = 200\n",
    "desired_height = 150\n",
    "# Perform data augmentation\n",
    "augmented_palpebral_images = []\n",
    "augmented_labels = []\n",
    "for idx, image in enumerate(Palpebral_images_resized):\n",
    "    label = df_anemic['Anemia_Status_label'].iloc[idx]\n",
    "    # Resize the image to desired dimensions\n",
    "    image = cv2.resize(image, (desired_width, desired_height))\n",
    "    # Original image\n",
    "    augmented_palpebral_images.append(image)\n",
    "    augmented_labels.append(label)   \n",
    "    # Augmentations\n",
    "    for angle in rotation_angles:\n",
    "        rotated_image = rotate_image(image, angle)\n",
    "        # Resize the rotated image\n",
    "        rotated_image = cv2.resize(rotated_image, (desired_width, desired_height))\n",
    "        augmented_palpebral_images.append(rotated_image)\n",
    "        augmented_labels.append(label)    \n",
    "    for flip_code in flip_codes:\n",
    "        flipped_image = flip_image(image, flip_code)\n",
    "        # Resize the flipped image\n",
    "        flipped_image = cv2.resize(flipped_image, (desired_width, desired_height))\n",
    "        augmented_palpebral_images.append(flipped_image)\n",
    "        augmented_labels.append(label)    \n",
    "    for scale_factor in scale_factors:\n",
    "        scaled_image = scale_image(image, scale_factor)\n",
    "        # Resize the scaled image\n",
    "        scaled_image = cv2.resize(scaled_image, (desired_width, desired_height))\n",
    "        augmented_palpebral_images.append(scaled_image)\n",
    "        augmented_labels.append(label)   \n",
    "    for translation in translations:\n",
    "        translated_image = translate_image(image, translation[0], translation[1])\n",
    "        # Resize the translated image\n",
    "        translated_image = cv2.resize(translated_image, (desired_width, desired_height))\n",
    "        augmented_palpebral_images.append(translated_image)\n",
    "        augmented_labels.append(label)"
   ]
  },
  {
   "cell_type": "code",
   "execution_count": 27,
   "id": "5cec6399",
   "metadata": {},
   "outputs": [],
   "source": [
    "# Convert to numpy arrays\n",
    "augmented_palpebral_images = np.array(augmented_palpebral_images)\n",
    "augmented_labels = np.array(augmented_labels)"
   ]
  },
  {
   "cell_type": "code",
   "execution_count": 28,
   "id": "71bb7fa6",
   "metadata": {},
   "outputs": [],
   "source": [
    "augmented_palpebral_images = np.expand_dims(augmented_palpebral_images, axis=-1)"
   ]
  },
  {
   "cell_type": "code",
   "execution_count": 29,
   "id": "615d7a63",
   "metadata": {},
   "outputs": [],
   "source": [
    "x_train_2,x_test_2,y_train,y_test = train_test_split(augmented_palpebral_images, augmented_labels, test_size=0.2, random_state=42)"
   ]
  },
  {
   "cell_type": "markdown",
   "id": "4138d314",
   "metadata": {},
   "source": [
    "## Building CNN Model"
   ]
  },
  {
   "cell_type": "markdown",
   "id": "42c39ce0",
   "metadata": {},
   "source": [
    "* Whole Conjunctiva"
   ]
  },
  {
   "cell_type": "code",
   "execution_count": 27,
   "id": "f0dffa6b",
   "metadata": {},
   "outputs": [],
   "source": [
    "# Define CNN architecture\n",
    "def create_cnn(input_shape):\n",
    "    model = models.Sequential()\n",
    "    model.add(layers.Conv2D(32, (3, 3), activation='relu', input_shape=input_shape))\n",
    "    model.add(layers.MaxPooling2D((2, 2)))\n",
    "    model.add(layers.Conv2D(64, (3, 3), activation='relu'))\n",
    "    model.add(layers.MaxPooling2D((2, 2)))\n",
    "    model.add(layers.Conv2D(64, (3, 3), activation='relu'))\n",
    "    model.add(layers.Flatten())\n",
    "    model.add(layers.Dense(64, activation='relu'))\n",
    "    model.add(layers.Dense(1, activation='sigmoid'))  # Output layer for binary classification\n",
    "    return model\n",
    "\n",
    "# Define input shape for CNN\n",
    "input_shape = augmented_whole_images[0].shape  # Shape of augmented images\n",
    "# Define CNN model\n",
    "cnn_model = create_cnn(input_shape)"
   ]
  },
  {
   "cell_type": "code",
   "execution_count": 28,
   "id": "e9d576e5",
   "metadata": {},
   "outputs": [],
   "source": [
    "# Compile the model\n",
    "cnn_model.compile(optimizer='adam', loss='binary_crossentropy', metrics=['accuracy'])"
   ]
  },
  {
   "cell_type": "code",
   "execution_count": 29,
   "id": "e522766e",
   "metadata": {},
   "outputs": [
    {
     "name": "stdout",
     "output_type": "stream",
     "text": [
      "Epoch 1/15\n",
      "47/47 [==============================] - 56s 1s/step - loss: 0.5754 - accuracy: 0.7929 - val_loss: 0.4530 - val_accuracy: 0.8311\n",
      "Epoch 2/15\n",
      "47/47 [==============================] - 54s 1s/step - loss: 0.4677 - accuracy: 0.8009 - val_loss: 0.4787 - val_accuracy: 0.8311\n",
      "Epoch 3/15\n",
      "47/47 [==============================] - 58s 1s/step - loss: 0.4390 - accuracy: 0.8009 - val_loss: 0.4946 - val_accuracy: 0.8311\n",
      "Epoch 4/15\n",
      "47/47 [==============================] - 52s 1s/step - loss: 0.4136 - accuracy: 0.8009 - val_loss: 0.4850 - val_accuracy: 0.8311\n",
      "Epoch 5/15\n",
      "47/47 [==============================] - 52s 1s/step - loss: 0.3862 - accuracy: 0.8016 - val_loss: 0.4694 - val_accuracy: 0.8338\n",
      "Epoch 6/15\n",
      "47/47 [==============================] - 59s 1s/step - loss: 0.3560 - accuracy: 0.8123 - val_loss: 0.4918 - val_accuracy: 0.8365\n",
      "Epoch 7/15\n",
      "47/47 [==============================] - 53s 1s/step - loss: 0.3317 - accuracy: 0.8204 - val_loss: 0.5226 - val_accuracy: 0.7989\n",
      "Epoch 8/15\n",
      "47/47 [==============================] - 53s 1s/step - loss: 0.3213 - accuracy: 0.8190 - val_loss: 0.5433 - val_accuracy: 0.7989\n",
      "Epoch 9/15\n",
      "47/47 [==============================] - 52s 1s/step - loss: 0.2796 - accuracy: 0.8432 - val_loss: 0.6247 - val_accuracy: 0.8445\n",
      "Epoch 10/15\n",
      "47/47 [==============================] - 52s 1s/step - loss: 0.2383 - accuracy: 0.8827 - val_loss: 0.6529 - val_accuracy: 0.8445\n",
      "Epoch 11/15\n",
      "47/47 [==============================] - 53s 1s/step - loss: 0.2194 - accuracy: 0.9008 - val_loss: 0.6664 - val_accuracy: 0.8204\n",
      "Epoch 12/15\n",
      "47/47 [==============================] - 52s 1s/step - loss: 0.1786 - accuracy: 0.9209 - val_loss: 0.8572 - val_accuracy: 0.8445\n",
      "Epoch 13/15\n",
      "47/47 [==============================] - 52s 1s/step - loss: 0.1321 - accuracy: 0.9444 - val_loss: 0.7918 - val_accuracy: 0.8391\n",
      "Epoch 14/15\n",
      "47/47 [==============================] - 52s 1s/step - loss: 0.0908 - accuracy: 0.9598 - val_loss: 1.0488 - val_accuracy: 0.8284\n",
      "Epoch 15/15\n",
      "47/47 [==============================] - 53s 1s/step - loss: 0.0714 - accuracy: 0.9651 - val_loss: 0.9883 - val_accuracy: 0.7828\n"
     ]
    }
   ],
   "source": [
    "# Train the model\n",
    "history_whole = cnn_model.fit(x_train_1, y_train, epochs=15, batch_size=32, validation_split=0.2)"
   ]
  },
  {
   "cell_type": "code",
   "execution_count": 30,
   "id": "0b52a4a3",
   "metadata": {},
   "outputs": [
    {
     "name": "stdout",
     "output_type": "stream",
     "text": [
      "15/15 [==============================] - 4s 251ms/step - loss: 0.7871 - accuracy: 0.8051\n",
      "Test Loss: 0.7871370911598206\n",
      "Test Accuracy: 0.8051391839981079\n"
     ]
    }
   ],
   "source": [
    "# Evaluate the model on test data\n",
    "test_loss, test_accuracy = cnn_model.evaluate(x_test_1, y_test)\n",
    "print(\"Test Loss:\", test_loss)\n",
    "print(\"Test Accuracy:\", test_accuracy)"
   ]
  },
  {
   "cell_type": "code",
   "execution_count": 33,
   "id": "4450ab12",
   "metadata": {},
   "outputs": [
    {
     "data": {
      "text/plain": [
       "<matplotlib.legend.Legend at 0x2743abcaf20>"
      ]
     },
     "execution_count": 33,
     "metadata": {},
     "output_type": "execute_result"
    },
    {
     "data": {
      "image/png": "[encoded data removed]",
      "text/plain": [
       "<Figure size 640x480 with 1 Axes>"
      ]
     },
     "metadata": {},
     "output_type": "display_data"
    }
   ],
   "source": [
    "# Visualize accuracy and loss\n",
    "plt.plot(history_whole.history['accuracy'])\n",
    "plt.plot(history_whole.history['val_accuracy'])\n",
    "plt.title('CNN on Whole Conjunctiva Accuracy')\n",
    "plt.xlabel('Epoch')\n",
    "plt.ylabel('Accuracy')\n",
    "plt.legend(['Training Data','Validation Data'], loc = 'lower right')"
   ]
  },
  {
   "cell_type": "markdown",
   "id": "05fa9de3",
   "metadata": {},
   "source": [
    "* Palpebral Conjunctiva"
   ]
  },
  {
   "cell_type": "code",
   "execution_count": 38,
   "id": "6b672217",
   "metadata": {},
   "outputs": [],
   "source": [
    "# Define CNN architecture\n",
    "def create_cnn(input_shape):\n",
    "    model = models.Sequential()\n",
    "    model.add(layers.Conv2D(32, (3, 3), activation='relu', input_shape=input_shape))\n",
    "    model.add(layers.MaxPooling2D((2, 2)))\n",
    "    model.add(layers.Conv2D(64, (3, 3), activation='relu'))\n",
    "    model.add(layers.MaxPooling2D((2, 2)))\n",
    "    model.add(layers.Conv2D(64, (3, 3), activation='relu'))\n",
    "    model.add(layers.Flatten())\n",
    "    model.add(layers.Dense(64, activation='relu'))\n",
    "    model.add(layers.Dense(1, activation='sigmoid'))  # Output layer for binary classification\n",
    "    return model\n",
    "\n",
    "# Define input shape for CNN\n",
    "input_shape = augmented_palpebral_images[0].shape  \n",
    "# Define CNN model\n",
    "cnn_model = create_cnn(input_shape)"
   ]
  },
  {
   "cell_type": "code",
   "execution_count": 39,
   "id": "fe69c552",
   "metadata": {},
   "outputs": [],
   "source": [
    "# Compile the model\n",
    "cnn_model.compile(optimizer='adam', loss='binary_crossentropy', metrics=['accuracy'])"
   ]
  },
  {
   "cell_type": "code",
   "execution_count": 40,
   "id": "76646861",
   "metadata": {},
   "outputs": [
    {
     "name": "stdout",
     "output_type": "stream",
     "text": [
      "Epoch 1/15\n",
      "47/47 [==============================] - 57s 1s/step - loss: 0.5483 - accuracy: 0.7936 - val_loss: 0.4440 - val_accuracy: 0.8311\n",
      "Epoch 2/15\n",
      "47/47 [==============================] - 54s 1s/step - loss: 0.4615 - accuracy: 0.7996 - val_loss: 0.4619 - val_accuracy: 0.8016\n",
      "Epoch 3/15\n",
      "47/47 [==============================] - 51s 1s/step - loss: 0.4153 - accuracy: 0.8063 - val_loss: 0.4334 - val_accuracy: 0.8231\n",
      "Epoch 4/15\n",
      "47/47 [==============================] - 53s 1s/step - loss: 0.3609 - accuracy: 0.8271 - val_loss: 0.4320 - val_accuracy: 0.8177\n",
      "Epoch 5/15\n",
      "47/47 [==============================] - 54s 1s/step - loss: 0.3037 - accuracy: 0.8532 - val_loss: 0.4432 - val_accuracy: 0.8472\n",
      "Epoch 6/15\n",
      "47/47 [==============================] - 54s 1s/step - loss: 0.2383 - accuracy: 0.8948 - val_loss: 0.5919 - val_accuracy: 0.8311\n",
      "Epoch 7/15\n",
      "47/47 [==============================] - 53s 1s/step - loss: 0.1832 - accuracy: 0.9223 - val_loss: 0.4626 - val_accuracy: 0.8660\n",
      "Epoch 8/15\n",
      "47/47 [==============================] - 51s 1s/step - loss: 0.1266 - accuracy: 0.9477 - val_loss: 0.5569 - val_accuracy: 0.8365\n",
      "Epoch 9/15\n",
      "47/47 [==============================] - 55s 1s/step - loss: 0.1092 - accuracy: 0.9605 - val_loss: 0.6834 - val_accuracy: 0.8660\n",
      "Epoch 10/15\n",
      "47/47 [==============================] - 52s 1s/step - loss: 0.0677 - accuracy: 0.9705 - val_loss: 0.5167 - val_accuracy: 0.8794\n",
      "Epoch 11/15\n",
      "47/47 [==============================] - 52s 1s/step - loss: 0.0574 - accuracy: 0.9752 - val_loss: 0.7266 - val_accuracy: 0.8606\n",
      "Epoch 12/15\n",
      "47/47 [==============================] - 51s 1s/step - loss: 0.0416 - accuracy: 0.9799 - val_loss: 0.8003 - val_accuracy: 0.8633\n",
      "Epoch 13/15\n",
      "47/47 [==============================] - 52s 1s/step - loss: 0.0430 - accuracy: 0.9826 - val_loss: 0.7201 - val_accuracy: 0.8606\n",
      "Epoch 14/15\n",
      "47/47 [==============================] - 51s 1s/step - loss: 0.0279 - accuracy: 0.9873 - val_loss: 0.8097 - val_accuracy: 0.8499\n",
      "Epoch 15/15\n",
      "47/47 [==============================] - 53s 1s/step - loss: 0.0315 - accuracy: 0.9846 - val_loss: 0.7515 - val_accuracy: 0.8660\n"
     ]
    }
   ],
   "source": [
    "# Train the model\n",
    "history_palpebral = cnn_model.fit(x_train_2, y_train, epochs=15, batch_size=32, validation_split=0.2)"
   ]
  },
  {
   "cell_type": "code",
   "execution_count": 41,
   "id": "cf16a878",
   "metadata": {},
   "outputs": [
    {
     "name": "stdout",
     "output_type": "stream",
     "text": [
      "15/15 [==============================] - 4s 243ms/step - loss: 0.9969 - accuracy: 0.8351\n",
      "Test Loss: 0.9968511462211609\n",
      "Test Accuracy: 0.835117757320404\n"
     ]
    }
   ],
   "source": [
    "# Evaluate the model on test data\n",
    "test_loss, test_accuracy = cnn_model.evaluate(x_test_2, y_test)\n",
    "print(\"Test Loss:\", test_loss)\n",
    "print(\"Test Accuracy:\", test_accuracy)"
   ]
  },
  {
   "cell_type": "code",
   "execution_count": 42,
   "id": "1e09992e",
   "metadata": {},
   "outputs": [
    {
     "data": {
      "text/plain": [
       "<matplotlib.legend.Legend at 0x2743a2ac4c0>"
      ]
     },
     "execution_count": 42,
     "metadata": {},
     "output_type": "execute_result"
    },
    {
     "data": {
      "image/png": "[encoded data removed]",
      "text/plain": [
       "<Figure size 640x480 with 1 Axes>"
      ]
     },
     "metadata": {},
     "output_type": "display_data"
    }
   ],
   "source": [
    "# Visualize accuracy and loss\n",
    "plt.plot(history_palpebral.history['accuracy'])\n",
    "plt.plot(history_palpebral.history['val_accuracy'])\n",
    "plt.title('CNN on Palpebral Conjunctiva Accuracy')\n",
    "plt.xlabel('Epoch')\n",
    "plt.ylabel('Accuracy')\n",
    "plt.legend(['Training Data','Validation Data'], loc = 'lower right')"
   ]
  }
 ],
 "metadata": {
  "kernelspec": {
   "display_name": "Python 3 (ipykernel)",
   "language": "python",
   "name": "python3"
  },
  "language_info": {
   "codemirror_mode": {
    "name": "ipython",
    "version": 3
   },
   "file_extension": ".py",
   "mimetype": "text/x-python",
   "name": "python",
   "nbconvert_exporter": "python",
   "pygments_lexer": "ipython3",
   "version": "3.10.9"
  }
 },
 "nbformat": 4,
 "nbformat_minor": 5
}
